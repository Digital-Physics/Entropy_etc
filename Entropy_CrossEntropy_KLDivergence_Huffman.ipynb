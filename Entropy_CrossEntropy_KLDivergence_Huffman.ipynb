{
 "cells": [
  {
   "cell_type": "code",
   "execution_count": 205,
   "metadata": {},
   "outputs": [],
   "source": [
    "#entropy, cross-entropy, K-L divergence, Huffman Coding"
   ]
  },
  {
   "cell_type": "code",
   "execution_count": 206,
   "metadata": {},
   "outputs": [],
   "source": [
    "import numpy as np\n",
    "import pandas as pd"
   ]
  },
  {
   "cell_type": "code",
   "execution_count": 207,
   "metadata": {},
   "outputs": [],
   "source": [
    "#p represents a distribution of possible weather states for a given day\n",
    "p = np.array([0.9, 0.1]) #probability(sun, rain)"
   ]
  },
  {
   "cell_type": "code",
   "execution_count": 208,
   "metadata": {},
   "outputs": [
    {
     "name": "stdout",
     "output_type": "stream",
     "text": [
      "The entropy or information content measured in bits is:  0.4689955935892812 bits\n"
     ]
    }
   ],
   "source": [
    "#entropy\n",
    "\n",
    "#a measure of uncertainty over possible states (in this case, the weather for the day)\n",
    "#preface: anything (without infinite complexity) can be represented in 0s and 1s. (think of a computer)\n",
    "#consider transmitting a message about the weather over a communication wire to someone else\n",
    "#assume you can only use two types of symbols, a dot and a dash \n",
    "#an encoding with distribution p will take, on average, at least the following amounts of bits to transmit\n",
    "info_content = -sum(p*np.log2(p)) #a weighted average of the -log(p)... log base 2 since we're in a binary language\n",
    "\n",
    "#Bits can be thought of as dots-dash, yes-no, 0-1, this-that distinctions\n",
    "#Entropy can be thought of as a measure of variability or surprise in a probabilistic system\n",
    "print('The entropy or information content measured in bits is: ', info_content, 'bits')"
   ]
  },
  {
   "cell_type": "code",
   "execution_count": 209,
   "metadata": {},
   "outputs": [
    {
     "name": "stdout",
     "output_type": "stream",
     "text": [
      "A notice of Sunny weather carries this much surprise:  0.15200309344504995\n",
      "A notice of Rainy weather transmits this much information:  3.321928094887362\n"
     ]
    }
   ],
   "source": [
    "#decomposing the entropy formula implies an unlikely event contributes more to entropy's magnitude\n",
    "\n",
    "#sunny\n",
    "print('A notice of Sunny weather carries this much surprise: ', -np.log2(p[0]))\n",
    "\n",
    "#rainy\n",
    "print('A notice of Rainy weather transmits this much information: ', -np.log2(p[1]))"
   ]
  },
  {
   "cell_type": "code",
   "execution_count": 210,
   "metadata": {},
   "outputs": [],
   "source": [
    "#but if you increase one probability, you make the remaining ones less likely, since they add to 1\n",
    "#so which system has higher entropy, (0.9, 0.1) or (0.8, 0.2)?\n",
    "#what probabilistic distribution over this two-state system would lead to the highest entropy or uncertainty? \n",
    "#change the probability distribution p to experiment"
   ]
  },
  {
   "cell_type": "code",
   "execution_count": 211,
   "metadata": {},
   "outputs": [
    {
     "name": "stdout",
     "output_type": "stream",
     "text": [
      "The lengths of our weather encodings are:  [1 1]\n",
      "The average message length under this encoding:  1.0\n"
     ]
    }
   ],
   "source": [
    "#suppose we came up with the following encoding for sending information about the weather\n",
    "#sun is encoded as a binary string of length one, namely '0' \n",
    "#and rain is encoded as a binary string of length one, namely '1'\n",
    "\n",
    "sun = '0'\n",
    "rain = '1'\n",
    "\n",
    "#to transmit the weather we are sending a binary string of length 1 in both situations\n",
    "encoding_length = np.array([len(str(sun)), len(str(rain))]) \n",
    "\n",
    "print('The lengths of our weather encodings are: ', encoding_length)\n",
    "\n",
    "#so the average length of the binary message we need to send\n",
    "avg_message_length = sum(p*encoding_length)\n",
    "\n",
    "print('The average message length under this encoding: ', avg_message_length)"
   ]
  },
  {
   "cell_type": "code",
   "execution_count": 212,
   "metadata": {},
   "outputs": [
    {
     "name": "stdout",
     "output_type": "stream",
     "text": [
      "The Cross-Entropy, or average message length again is:  1.0\n"
     ]
    }
   ],
   "source": [
    "#Cross-Entropy\n",
    "\n",
    "#The encoding scheme in the cell above can handle transmitting information on a higher entropy system than p~(.9,.1)\n",
    "#Entropy of p~(.5,.5) > Entropy of p~(.9,.1) since there is more uncertainty in a coin flip than our weather system\n",
    "#The encoding scheme can handle a maximally random two state system q\n",
    "q = np.array([0.5, 0.5])\n",
    "\n",
    "#alternatively\n",
    "q = 1/np.power(2, encoding_length)\n",
    "\n",
    "#Imagine you are sending an encoded message regarding the weather where...\n",
    "#The underlying data is drawn from your 90-10 weather distribution p, \n",
    "#But the encoding scheme is optimized for a 50-50 distribution q \n",
    "#Then the cross-entropy is the expected length of a message encoded according to q but sampled according to p\n",
    "print('The Cross-Entropy, or average message length again is: ',-sum(p*np.log2(q)))"
   ]
  },
  {
   "cell_type": "code",
   "execution_count": 213,
   "metadata": {
    "scrolled": true
   },
   "outputs": [
    {
     "name": "stdout",
     "output_type": "stream",
     "text": [
      "The average extra number of bits we are sending:  2.3210044064107187\n",
      "The K-L Divergence: 0.5310044064107188\n"
     ]
    }
   ],
   "source": [
    "#the K-L Divergence \n",
    "\n",
    "#The extra bits we'll need to send on average, above the amout of actual variability in the system\n",
    "print('The average extra number of bits we are sending: ', avg_message_size - info_content)\n",
    "\n",
    "#In this context, it is a measure of inefficiency of the way we have encoded our message regarding the weather\n",
    "print('The K-L Divergence:', -sum(p*np.log2(q/p)))"
   ]
  },
  {
   "cell_type": "code",
   "execution_count": 214,
   "metadata": {},
   "outputs": [
    {
     "data": {
      "text/plain": [
       "0.5310044064107189"
      ]
     },
     "execution_count": 214,
     "metadata": {},
     "output_type": "execute_result"
    }
   ],
   "source": [
    "#alternate formula for the K-L Divergece\n",
    "\n",
    "#a weighted average where our weights are the frequency of the weather\n",
    "#and the thing we are averaging is the binary encoding ratio(i.e. log base 2 ratio)... \n",
    "#between the actual information in p and the info under the encoding implied by q\n",
    "sum(p*np.log2(p/q))"
   ]
  },
  {
   "cell_type": "code",
   "execution_count": 215,
   "metadata": {},
   "outputs": [
    {
     "name": "stdout",
     "output_type": "stream",
     "text": [
      "If you switch the sampling and encoding distribution you get a K-L Divergence of:  0.7369655941662061\n"
     ]
    }
   ],
   "source": [
    "#KL is not symmetric between the sampling distribution and the encoding distribution\n",
    "#but it is still positive\n",
    "print('If you switch the sampling and encoding distribution you get a K-L Divergence of: ', -sum(q*np.log2(p/q)))"
   ]
  },
  {
   "cell_type": "code",
   "execution_count": 216,
   "metadata": {},
   "outputs": [
    {
     "name": "stdout",
     "output_type": "stream",
     "text": [
      "0.5310044064107189\n",
      "0.029446844526784283\n",
      "0.7944362512259656\n"
     ]
    }
   ],
   "source": [
    "#K-L divergence doesn't pass the triangle inequality for being a true distance metric\n",
    "#The K-L Divergence \"distance\" from p-to-q + q-to-r can be less than p-to-r !\n",
    "\n",
    "p = np.array([0.9, 0.1])\n",
    "q = np.array([0.5, 0.5])\n",
    "r = np.array([0.4, 0.6])\n",
    "\n",
    "print(sum(p*np.log2(p/q)))\n",
    "print(sum(q*np.log2(q/r)))\n",
    "print(sum(p*np.log2(p/r)))"
   ]
  },
  {
   "cell_type": "code",
   "execution_count": 217,
   "metadata": {},
   "outputs": [],
   "source": [
    "#Example #2\n",
    "#This one is more interesting since we can come up with a better encoding than the initial one we look at\n",
    "#Define the probability of (sun, rain, clouds, tornado)\n",
    "p = np.array([0.9, 0.05, 0.03, 0.02]) "
   ]
  },
  {
   "cell_type": "code",
   "execution_count": 218,
   "metadata": {},
   "outputs": [
    {
     "name": "stdout",
     "output_type": "stream",
     "text": [
      "0.6175431233120147\n"
     ]
    }
   ],
   "source": [
    "#a signal encoding one of four possibilities, each with probability specified in p...\n",
    "#should take at least the following amounts of bits to transmit, on average\n",
    "info_content = -sum(p*np.log2(p))\n",
    "print(info_content)"
   ]
  },
  {
   "cell_type": "code",
   "execution_count": 219,
   "metadata": {},
   "outputs": [
    {
     "name": "stdout",
     "output_type": "stream",
     "text": [
      "The lengths of our encoded messages about the weather are:  [2 2 2 2]\n",
      "The average message length under this encoding:  2.0\n"
     ]
    }
   ],
   "source": [
    "#suppose we use the following binary encodings\n",
    "\n",
    "sun = '00'\n",
    "rain = '01'\n",
    "clouds = '10'\n",
    "tornado = '11'\n",
    "\n",
    "#to transmit the weather we are sending 2 bits of information in all situations\n",
    "encoding_length = np.array([len(str(sun)), len(str(rain)), len(str(clouds)), len(str(tornado))]) \n",
    "\n",
    "print('The lengths of our encoded messages about the weather are: ', encoding_length)\n",
    "\n",
    "#so the average length of the binary message we need to send\n",
    "avg_message_size = sum(p*encoding_length)\n",
    "\n",
    "print('The average message length under this encoding: ', avg_message_size)"
   ]
  },
  {
   "cell_type": "code",
   "execution_count": 220,
   "metadata": {},
   "outputs": [
    {
     "name": "stdout",
     "output_type": "stream",
     "text": [
      "The average message size or cross-entropy: 2.0\n"
     ]
    }
   ],
   "source": [
    "#The Cross-Entropy\n",
    "\n",
    "#The encoding above is optimize for an even more entropic system than p\n",
    "#The encoding above can handle a maximally entopic 4-state system, q\n",
    "q = np.array([0.25, 0.25, 0.25, 0.25])\n",
    "\n",
    "#The average enoding length under q, drawn from distribution p\n",
    "print('The average message size or cross-entropy:', -sum(p*np.log2(q)))"
   ]
  },
  {
   "cell_type": "code",
   "execution_count": 221,
   "metadata": {},
   "outputs": [
    {
     "name": "stdout",
     "output_type": "stream",
     "text": [
      "The Encoding Lengths:  [2 2 2 2]\n",
      "The implied likelihoods under this encoding:  [0.25 0.25 0.25 0.25]\n",
      "The Cross-Entropy, or average message size in bits:  2.0\n",
      "The Entropy, or average information content in a message:  0.6175431233120147\n",
      "The K-L Divergence, or extra bits of inefficiency our encoding adds: 1.3824568766879857\n"
     ]
    }
   ],
   "source": [
    "#another way to see how the a specific encoding implies another distribution, q \n",
    "\n",
    "#q repesents implied probabilities assuming the encoding was efficient\n",
    "#if an encoding is not perferctly efficient for another distriubtion q, you won't necessarily have sum of the probalities equal 1\n",
    "q = 1/np.power(2, encoding_length)\n",
    "\n",
    "print('The Encoding Lengths: ', encoding_length)\n",
    "print(\"The implied likelihoods under this encoding: \", q)\n",
    "\n",
    "print('The Cross-Entropy, or average message size in bits: ', -sum(p*np.log2(q)))\n",
    "print('The Entropy, or average information content in a message: ', -sum(p*np.log2(p)))\n",
    "print('The K-L Divergence, or extra bits of inefficiency our encoding adds:', -sum(p*np.log2(q/p)))"
   ]
  },
  {
   "cell_type": "code",
   "execution_count": 222,
   "metadata": {},
   "outputs": [
    {
     "name": "stdout",
     "output_type": "stream",
     "text": [
      "A measure of our inefficiency, or average extra bits transmitted:  1.3824568766879852\n"
     ]
    }
   ],
   "source": [
    "#The extra bits we needed to send (on average) above the theoretical minimum (which may not be achievable)\n",
    "print('A measure of our inefficiency, or average extra bits transmitted: ', avg_message_size - info_content)"
   ]
  },
  {
   "cell_type": "code",
   "execution_count": 223,
   "metadata": {},
   "outputs": [
    {
     "name": "stdout",
     "output_type": "stream",
     "text": [
      "The Encoding Lengths:  [1 2 3 3]\n",
      "The Entropy of the weather system:  0.6175431233120147\n",
      "The Cross-Entorpy or average message length, of the weather system under this encoding scheme:  1.1500000000000001\n",
      "The K-L Divergence between these two:  0.5324568766879855\n"
     ]
    }
   ],
   "source": [
    "#suppose we use the following binary encodings below to represent weather\n",
    "#notice that even though we have varying encoding lengths, we can string them together and the message is still unambiguous\n",
    "\n",
    "#0 implies sun\n",
    "#1 is invalid\n",
    "#10 implies rain\n",
    "#11 is invalid\n",
    "#100 implies rain, sun\n",
    "#101 is invalid\n",
    "#110 implies clouds\n",
    "#111 implies tornado\n",
    "#1000 implies rain, sun, sun\n",
    "#1001 is invalid\n",
    "#1010 implies rain, rain\n",
    "#1011 is invalid\n",
    "\n",
    "sun = '0'\n",
    "rain = '10'\n",
    "clouds = '110'\n",
    "tornado = '111'\n",
    "\n",
    "#to transmit the weather we are sending strings of length 1, 2, or 3\n",
    "encoding_length = np.array([len(str(sun)), len(str(rain)), len(str(clouds)), len(str(tornado))]) \n",
    "\n",
    "print('The Encoding Lengths: ', encoding_length)\n",
    "\n",
    "#the average length of the binary message we need to send\n",
    "avg_message_size = sum(p*encoding_length)\n",
    "\n",
    "print('The Entropy of the weather system: ', -sum(p*np.log2(p)))\n",
    "print('The Cross-Entorpy or average message length, of the weather system under this encoding scheme: ', avg_message_size)\n",
    "print('The K-L Divergence between these two: ', avg_message_size -(-sum(p*np.log2(p))))"
   ]
  },
  {
   "cell_type": "code",
   "execution_count": 224,
   "metadata": {},
   "outputs": [
    {
     "name": "stdout",
     "output_type": "stream",
     "text": [
      "The Encoding Lengths:  [1 2 3 3]\n",
      "The implied likelihoods assuming this is an optimal encoding:  [0.5   0.25  0.125 0.125]\n",
      "The K-L Divergence:  0.5324568766879854\n"
     ]
    }
   ],
   "source": [
    "#We did the K-L Divergence calculation above without calculating q\n",
    "#Just out of curiousity, what is the implied probability distribution q under the encoding scheme above\n",
    "\n",
    "q = 1/np.power(2, encoding_length)\n",
    "\n",
    "print('The Encoding Lengths: ', encoding_length)\n",
    "print(\"The implied likelihoods assuming this is an optimal encoding: \", q)\n",
    "print('The K-L Divergence: ', -sum(p*np.log2(q/p)))"
   ]
  },
  {
   "cell_type": "code",
   "execution_count": 225,
   "metadata": {},
   "outputs": [
    {
     "name": "stdout",
     "output_type": "stream",
     "text": [
      "The Encoding Lengths:  [2 2 3 3]\n",
      "The implied likelihoods assuming this is an optimal encoding:  [0.25  0.25  0.125 0.125]\n",
      "The K-L Divergence distance, or measure of inefficiency, has gone up to:  1.4324568766879853\n"
     ]
    }
   ],
   "source": [
    "#what if we tweaked our encoding to make it less optimal\n",
    "#notice how our sun encoding is now two bits instead of one\n",
    "\n",
    "sun = '00'\n",
    "rain = '10'\n",
    "clouds = '110'\n",
    "tornado = '111'\n",
    "\n",
    "#to transmit the weather we are sending strings of length 1, 2, or 3\n",
    "encoding_length = np.array([len(str(sun)), len(str(rain)), len(str(clouds)), len(str(tornado))]) \n",
    "\n",
    "q = 1/np.power(2, encoding_length)\n",
    "\n",
    "print('The Encoding Lengths: ', encoding_length)\n",
    "print(\"The implied likelihoods assuming this is an optimal encoding: \", q)\n",
    "print('The K-L Divergence distance, or measure of inefficiency, has gone up to: ', -sum(p*np.log2(q/p)))"
   ]
  },
  {
   "cell_type": "code",
   "execution_count": 226,
   "metadata": {},
   "outputs": [
    {
     "name": "stdout",
     "output_type": "stream",
     "text": [
      "Original Cross-Entropy:  1.1500000000000001\n",
      "Original K-L Divergence: 0.5324568766879854\n",
      "Original Entropy: 0.6175431233120147\n",
      "\n",
      "Subsequent Cross-Entropy:  2.0500000000000003\n",
      "Subsequent K-L Divergence: 1.4324568766879853\n",
      "Subsequent Entropy: 0.6175431233120147\n"
     ]
    }
   ],
   "source": [
    "#The amount by which our K-L divergence went up (our coding inefficiency) =\n",
    "#The amount by which our Cross-Entropy went up (our message length)\n",
    "#Because the probability of weather system, and therfore its entropy, didn't change\n",
    "\n",
    "#original encoding\n",
    "sun = '0'\n",
    "rain = '10'\n",
    "clouds = '110'\n",
    "tornado = '111'\n",
    "\n",
    "encoding_length = np.array([len(str(sun)), len(str(rain)), len(str(clouds)), len(str(tornado))]) \n",
    "\n",
    "q = 1/np.power(2, encoding_length)\n",
    "\n",
    "print('Original Cross-Entropy: ', -sum(p*np.log2(q)))\n",
    "print('Original K-L Divergence:', -sum(p*np.log2(q/p)))\n",
    "print('Original Entropy:', -sum(p*np.log2(p)))\n",
    "\n",
    "#subsequent encoding\n",
    "sun = '00'\n",
    "rain = '10'\n",
    "clouds = '110'\n",
    "tornado = '111'\n",
    "\n",
    "encoding_length = np.array([len(str(sun)), len(str(rain)), len(str(clouds)), len(str(tornado))]) \n",
    "\n",
    "q = 1/np.power(2, encoding_length)\n",
    "\n",
    "print()\n",
    "print('Subsequent Cross-Entropy: ', -sum(p*np.log2(q)))\n",
    "print('Subsequent K-L Divergence:', -sum(p*np.log2(q/p)))\n",
    "print('Subsequent Entropy:', -sum(p*np.log2(p)))"
   ]
  },
  {
   "cell_type": "code",
   "execution_count": 227,
   "metadata": {},
   "outputs": [
    {
     "name": "stdout",
     "output_type": "stream",
     "text": [
      "The Cross-Entropy: 1.75\n",
      "The K-L Divergence: 0.0\n",
      "The Entropy: 1.75\n"
     ]
    }
   ],
   "source": [
    "#Example #3\n",
    "#Define the probability of (sun, rain, clouds, tornado)\n",
    "p = np.array([0.5, 0.25, 0.125, 0.125]) \n",
    "\n",
    "#Use this encoding to send your message about the weather\n",
    "sun = '0'\n",
    "rain = '10'\n",
    "clouds = '110'\n",
    "tornado = '111'\n",
    "\n",
    "encoding_length = np.array([len(str(sun)), len(str(rain)), len(str(clouds)), len(str(tornado))]) \n",
    "\n",
    "q = 1/np.power(2, encoding_length)\n",
    "\n",
    "#notice how we have encoded our weather data perfectly efficiently\n",
    "#the cross-entropy = entropy\n",
    "#the average message length = information content\n",
    "#no wasted bits transmitted\n",
    "#we're lucky the weather's probabilites allowed for a perfectly efficient encoding to exist\n",
    "#On average we'll send 1.75 bits, or characters in a binary language\n",
    "#On average the receiver will be getting 1.75 bits of information content, or surprise, on the other end\n",
    "print('The Cross-Entropy:', -sum(p*np.log2(q)))\n",
    "print('The K-L Divergence:', sum(p*np.log2(p/q)))\n",
    "print('The Entropy:', -sum(p*np.log2(p)))"
   ]
  },
  {
   "cell_type": "code",
   "execution_count": 228,
   "metadata": {},
   "outputs": [],
   "source": [
    "#All encodings thus far has been given to you\n",
    "#Some were efficient encodings (like example #3), while others were not\n",
    "#If each message we transmit is costly, how do we send weather infromation in an efficient way?\n",
    "#How do we come up with relatively efficient codings for arbitrary distributions?\n",
    "#One method is known as Huffman Coding..."
   ]
  },
  {
   "cell_type": "code",
   "execution_count": 229,
   "metadata": {},
   "outputs": [
    {
     "name": "stdout",
     "output_type": "stream",
     "text": [
      "     label  probability\n",
      "0     rain        0.250\n",
      "1      sun        0.500\n",
      "2    cloud        0.125\n",
      "3  tornado        0.125\n"
     ]
    }
   ],
   "source": [
    "#put weather states and their associated probability in a dataframe\n",
    "\n",
    "d = {'label': ['rain', 'sun', 'cloud', 'tornado'], 'probability': [0.25, 0.5, 0.125, 0.125]}\n",
    "df = pd.DataFrame(data=d)\n",
    "print(df)"
   ]
  },
  {
   "cell_type": "code",
   "execution_count": 230,
   "metadata": {},
   "outputs": [],
   "source": [
    "#Huffman coding algorithm\n",
    "#creates an encoding tree\n",
    "\n",
    "def huffman_coding(dataframe):\n",
    "    \n",
    "    #add additional columns, space for the algorithm to work\n",
    "    dataframe['encoding'] = '' #a placeholder for us to write the huffman code strings\n",
    "    dataframe['tree_node_children'] = dataframe['label'] #the original tree nodes that will be ranked by probility are the weather states\n",
    "    dataframe['tree_node_children'] = dataframe.tree_node_children.apply(lambda x: [x]) #put the state name into a list\n",
    "    dataframe['node_prob'] = dataframe['probability'] #the original node probabilities are the state probabilities\n",
    "    \n",
    "    print('Dataframe at start:')\n",
    "    print(dataframe)\n",
    "    \n",
    "    nodes = dataframe['tree_node_children'].count()\n",
    "    \n",
    "    while nodes > 1: \n",
    "        #sort the data to see which states have the lowest probabilities\n",
    "        dataframe = dataframe.sort_values(by='node_prob')\n",
    "        \n",
    "        #add 0 to the front of the Huffman encodings associated with all states below the node with lowest probability \n",
    "        for sub_node in dataframe.iloc[0]['tree_node_children']:\n",
    "            dataframe.loc[dataframe.label == sub_node,'encoding'] = '0' + dataframe.loc[dataframe.label == sub_node,'encoding']\n",
    "        \n",
    "        #add 1 to the front of the encoding associated with all statesbelow the node or state with second lowest probability \n",
    "        for sub_node in dataframe.iloc[1]['tree_node_children']:\n",
    "            dataframe.loc[dataframe.label == sub_node,'encoding'] = '1' + dataframe.loc[dataframe.label == sub_node,'encoding']\n",
    "            \n",
    "        #update probabilites and nodes for next iteration of ranking the two lowest probability nodes\n",
    "        dataframe.iloc[0, dataframe.columns.get_loc('node_prob')] = dataframe.iloc[0]['node_prob'] + dataframe.iloc[1]['node_prob'] #add two numbers\n",
    "        dataframe.iloc[1, dataframe.columns.get_loc('node_prob')] = np.nan\n",
    "        dataframe.iat[0, dataframe.columns.get_loc('tree_node_children')] = [*dataframe.iloc[0]['tree_node_children'], *dataframe.iloc[1]['tree_node_children']] #combine two lists\n",
    "        dataframe.iat[1, dataframe.columns.get_loc('tree_node_children')] = np.nan\n",
    "        print('Dataframe after another step:')\n",
    "        print(dataframe)\n",
    "        \n",
    "        nodes = dataframe['tree_node_children'].count()\n",
    "            \n",
    "    dataframe = dataframe.sort_index()\n",
    "    dataframe['encoding_length'] = dataframe.encoding.apply(len)\n",
    "    \n",
    "    return dataframe\n",
    "    #return dataframe.loc[:,'label':'encoding']"
   ]
  },
  {
   "cell_type": "code",
   "execution_count": 231,
   "metadata": {},
   "outputs": [
    {
     "name": "stdout",
     "output_type": "stream",
     "text": [
      "Dataframe at start:\n",
      "     label  probability encoding tree_node_children  node_prob\n",
      "0     rain        0.250                      [rain]      0.250\n",
      "1      sun        0.500                       [sun]      0.500\n",
      "2    cloud        0.125                     [cloud]      0.125\n",
      "3  tornado        0.125                   [tornado]      0.125\n",
      "Dataframe after another step:\n",
      "     label  probability encoding tree_node_children  node_prob\n",
      "2    cloud        0.125        0   [cloud, tornado]       0.25\n",
      "3  tornado        0.125        1                NaN        NaN\n",
      "0     rain        0.250                      [rain]       0.25\n",
      "1      sun        0.500                       [sun]       0.50\n",
      "Dataframe after another step:\n",
      "     label  probability encoding      tree_node_children  node_prob\n",
      "2    cloud        0.125       00  [cloud, tornado, rain]        0.5\n",
      "0     rain        0.250        1                     NaN        NaN\n",
      "1      sun        0.500                            [sun]        0.5\n",
      "3  tornado        0.125       01                     NaN        NaN\n",
      "Dataframe after another step:\n",
      "     label  probability encoding           tree_node_children  node_prob\n",
      "2    cloud        0.125      000  [cloud, tornado, rain, sun]        1.0\n",
      "1      sun        0.500        1                          NaN        NaN\n",
      "0     rain        0.250       01                          NaN        NaN\n",
      "3  tornado        0.125      001                          NaN        NaN\n"
     ]
    },
    {
     "data": {
      "text/html": [
       "<div>\n",
       "<style scoped>\n",
       "    .dataframe tbody tr th:only-of-type {\n",
       "        vertical-align: middle;\n",
       "    }\n",
       "\n",
       "    .dataframe tbody tr th {\n",
       "        vertical-align: top;\n",
       "    }\n",
       "\n",
       "    .dataframe thead th {\n",
       "        text-align: right;\n",
       "    }\n",
       "</style>\n",
       "<table border=\"1\" class=\"dataframe\">\n",
       "  <thead>\n",
       "    <tr style=\"text-align: right;\">\n",
       "      <th></th>\n",
       "      <th>label</th>\n",
       "      <th>probability</th>\n",
       "      <th>encoding</th>\n",
       "      <th>tree_node_children</th>\n",
       "      <th>node_prob</th>\n",
       "      <th>encoding_length</th>\n",
       "    </tr>\n",
       "  </thead>\n",
       "  <tbody>\n",
       "    <tr>\n",
       "      <th>0</th>\n",
       "      <td>rain</td>\n",
       "      <td>0.250</td>\n",
       "      <td>01</td>\n",
       "      <td>NaN</td>\n",
       "      <td>NaN</td>\n",
       "      <td>2</td>\n",
       "    </tr>\n",
       "    <tr>\n",
       "      <th>1</th>\n",
       "      <td>sun</td>\n",
       "      <td>0.500</td>\n",
       "      <td>1</td>\n",
       "      <td>NaN</td>\n",
       "      <td>NaN</td>\n",
       "      <td>1</td>\n",
       "    </tr>\n",
       "    <tr>\n",
       "      <th>2</th>\n",
       "      <td>cloud</td>\n",
       "      <td>0.125</td>\n",
       "      <td>000</td>\n",
       "      <td>[cloud, tornado, rain, sun]</td>\n",
       "      <td>1.0</td>\n",
       "      <td>3</td>\n",
       "    </tr>\n",
       "    <tr>\n",
       "      <th>3</th>\n",
       "      <td>tornado</td>\n",
       "      <td>0.125</td>\n",
       "      <td>001</td>\n",
       "      <td>NaN</td>\n",
       "      <td>NaN</td>\n",
       "      <td>3</td>\n",
       "    </tr>\n",
       "  </tbody>\n",
       "</table>\n",
       "</div>"
      ],
      "text/plain": [
       "     label  probability encoding           tree_node_children  node_prob  \\\n",
       "0     rain        0.250       01                          NaN        NaN   \n",
       "1      sun        0.500        1                          NaN        NaN   \n",
       "2    cloud        0.125      000  [cloud, tornado, rain, sun]        1.0   \n",
       "3  tornado        0.125      001                          NaN        NaN   \n",
       "\n",
       "   encoding_length  \n",
       "0                2  \n",
       "1                1  \n",
       "2                3  \n",
       "3                3  "
      ]
     },
     "execution_count": 231,
     "metadata": {},
     "output_type": "execute_result"
    }
   ],
   "source": [
    "huffman_coding(df)"
   ]
  },
  {
   "cell_type": "code",
   "execution_count": 232,
   "metadata": {},
   "outputs": [
    {
     "name": "stdout",
     "output_type": "stream",
     "text": [
      "     label  probability\n",
      "0     rain        0.250\n",
      "1      sun        0.400\n",
      "2    cloud        0.125\n",
      "3  tornado        0.125\n",
      "4     fire        0.100\n"
     ]
    }
   ],
   "source": [
    "d2 = {'label': ['rain', 'sun', 'cloud', 'tornado', 'fire'], 'probability': [0.25, 0.4, 0.125, 0.125, 0.1]}\n",
    "df2 = pd.DataFrame(data=d2)\n",
    "print(df2)"
   ]
  },
  {
   "cell_type": "code",
   "execution_count": 233,
   "metadata": {},
   "outputs": [
    {
     "name": "stdout",
     "output_type": "stream",
     "text": [
      "Dataframe at start:\n",
      "     label  probability encoding tree_node_children  node_prob\n",
      "0     rain        0.250                      [rain]      0.250\n",
      "1      sun        0.400                       [sun]      0.400\n",
      "2    cloud        0.125                     [cloud]      0.125\n",
      "3  tornado        0.125                   [tornado]      0.125\n",
      "4     fire        0.100                      [fire]      0.100\n",
      "Dataframe after another step:\n",
      "     label  probability encoding tree_node_children  node_prob\n",
      "4     fire        0.100        0      [fire, cloud]      0.225\n",
      "2    cloud        0.125        1                NaN        NaN\n",
      "3  tornado        0.125                   [tornado]      0.125\n",
      "0     rain        0.250                      [rain]      0.250\n",
      "1      sun        0.400                       [sun]      0.400\n",
      "Dataframe after another step:\n",
      "     label  probability encoding      tree_node_children  node_prob\n",
      "3  tornado        0.125        0  [tornado, fire, cloud]       0.35\n",
      "4     fire        0.100       10                     NaN        NaN\n",
      "0     rain        0.250                           [rain]       0.25\n",
      "1      sun        0.400                            [sun]       0.40\n",
      "2    cloud        0.125       11                     NaN        NaN\n",
      "Dataframe after another step:\n",
      "     label  probability encoding            tree_node_children  node_prob\n",
      "0     rain        0.250        0  [rain, tornado, fire, cloud]        0.6\n",
      "3  tornado        0.125       10                           NaN        NaN\n",
      "1      sun        0.400                                  [sun]        0.4\n",
      "4     fire        0.100      110                           NaN        NaN\n",
      "2    cloud        0.125      111                           NaN        NaN\n",
      "Dataframe after another step:\n",
      "     label  probability encoding                 tree_node_children  node_prob\n",
      "1      sun        0.400        0  [sun, rain, tornado, fire, cloud]        1.0\n",
      "0     rain        0.250       10                                NaN        NaN\n",
      "3  tornado        0.125      110                                NaN        NaN\n",
      "4     fire        0.100     1110                                NaN        NaN\n",
      "2    cloud        0.125     1111                                NaN        NaN\n"
     ]
    },
    {
     "data": {
      "text/html": [
       "<div>\n",
       "<style scoped>\n",
       "    .dataframe tbody tr th:only-of-type {\n",
       "        vertical-align: middle;\n",
       "    }\n",
       "\n",
       "    .dataframe tbody tr th {\n",
       "        vertical-align: top;\n",
       "    }\n",
       "\n",
       "    .dataframe thead th {\n",
       "        text-align: right;\n",
       "    }\n",
       "</style>\n",
       "<table border=\"1\" class=\"dataframe\">\n",
       "  <thead>\n",
       "    <tr style=\"text-align: right;\">\n",
       "      <th></th>\n",
       "      <th>label</th>\n",
       "      <th>probability</th>\n",
       "      <th>encoding</th>\n",
       "      <th>tree_node_children</th>\n",
       "      <th>node_prob</th>\n",
       "      <th>encoding_length</th>\n",
       "    </tr>\n",
       "  </thead>\n",
       "  <tbody>\n",
       "    <tr>\n",
       "      <th>0</th>\n",
       "      <td>rain</td>\n",
       "      <td>0.250</td>\n",
       "      <td>10</td>\n",
       "      <td>NaN</td>\n",
       "      <td>NaN</td>\n",
       "      <td>2</td>\n",
       "    </tr>\n",
       "    <tr>\n",
       "      <th>1</th>\n",
       "      <td>sun</td>\n",
       "      <td>0.400</td>\n",
       "      <td>0</td>\n",
       "      <td>[sun, rain, tornado, fire, cloud]</td>\n",
       "      <td>1.0</td>\n",
       "      <td>1</td>\n",
       "    </tr>\n",
       "    <tr>\n",
       "      <th>2</th>\n",
       "      <td>cloud</td>\n",
       "      <td>0.125</td>\n",
       "      <td>1111</td>\n",
       "      <td>NaN</td>\n",
       "      <td>NaN</td>\n",
       "      <td>4</td>\n",
       "    </tr>\n",
       "    <tr>\n",
       "      <th>3</th>\n",
       "      <td>tornado</td>\n",
       "      <td>0.125</td>\n",
       "      <td>110</td>\n",
       "      <td>NaN</td>\n",
       "      <td>NaN</td>\n",
       "      <td>3</td>\n",
       "    </tr>\n",
       "    <tr>\n",
       "      <th>4</th>\n",
       "      <td>fire</td>\n",
       "      <td>0.100</td>\n",
       "      <td>1110</td>\n",
       "      <td>NaN</td>\n",
       "      <td>NaN</td>\n",
       "      <td>4</td>\n",
       "    </tr>\n",
       "  </tbody>\n",
       "</table>\n",
       "</div>"
      ],
      "text/plain": [
       "     label  probability encoding                 tree_node_children  \\\n",
       "0     rain        0.250       10                                NaN   \n",
       "1      sun        0.400        0  [sun, rain, tornado, fire, cloud]   \n",
       "2    cloud        0.125     1111                                NaN   \n",
       "3  tornado        0.125      110                                NaN   \n",
       "4     fire        0.100     1110                                NaN   \n",
       "\n",
       "   node_prob  encoding_length  \n",
       "0        NaN                2  \n",
       "1        1.0                1  \n",
       "2        NaN                4  \n",
       "3        NaN                3  \n",
       "4        NaN                4  "
      ]
     },
     "execution_count": 233,
     "metadata": {},
     "output_type": "execute_result"
    }
   ],
   "source": [
    "huffman_coding(df2)"
   ]
  },
  {
   "cell_type": "code",
   "execution_count": 234,
   "metadata": {},
   "outputs": [
    {
     "name": "stdout",
     "output_type": "stream",
     "text": [
      "  label  probability\n",
      "0    s1       0.2500\n",
      "1    s2       0.2100\n",
      "2    s3       0.1500\n",
      "3    s4       0.1400\n",
      "4    s5       0.0625\n",
      "5    s6       0.0625\n",
      "6    s7       0.0625\n",
      "7    s8       0.0625\n"
     ]
    }
   ],
   "source": [
    "#let's generalize from weather to states\n",
    "\n",
    "d3 = {'label': ['s1', 's2', 's3', 's4', 's5', 's6', 's7', 's8'], \n",
    "      'probability': [0.25, 0.21, 0.15, 0.14, 0.0625, 0.0625, 0.0625, 0.0625]}\n",
    "df3 = pd.DataFrame(data=d3)\n",
    "print(df3)"
   ]
  },
  {
   "cell_type": "code",
   "execution_count": 235,
   "metadata": {},
   "outputs": [
    {
     "name": "stdout",
     "output_type": "stream",
     "text": [
      "Dataframe at start:\n",
      "  label  probability encoding tree_node_children  node_prob\n",
      "0    s1       0.2500                        [s1]     0.2500\n",
      "1    s2       0.2100                        [s2]     0.2100\n",
      "2    s3       0.1500                        [s3]     0.1500\n",
      "3    s4       0.1400                        [s4]     0.1400\n",
      "4    s5       0.0625                        [s5]     0.0625\n",
      "5    s6       0.0625                        [s6]     0.0625\n",
      "6    s7       0.0625                        [s7]     0.0625\n",
      "7    s8       0.0625                        [s8]     0.0625\n",
      "Dataframe after another step:\n",
      "  label  probability encoding tree_node_children  node_prob\n",
      "4    s5       0.0625        0           [s5, s6]     0.1250\n",
      "5    s6       0.0625        1                NaN        NaN\n",
      "6    s7       0.0625                        [s7]     0.0625\n",
      "7    s8       0.0625                        [s8]     0.0625\n",
      "3    s4       0.1400                        [s4]     0.1400\n",
      "2    s3       0.1500                        [s3]     0.1500\n",
      "1    s2       0.2100                        [s2]     0.2100\n",
      "0    s1       0.2500                        [s1]     0.2500\n",
      "Dataframe after another step:\n",
      "  label  probability encoding tree_node_children  node_prob\n",
      "6    s7       0.0625        0           [s7, s8]      0.125\n",
      "7    s8       0.0625        1                NaN        NaN\n",
      "4    s5       0.0625        0           [s5, s6]      0.125\n",
      "3    s4       0.1400                        [s4]      0.140\n",
      "2    s3       0.1500                        [s3]      0.150\n",
      "1    s2       0.2100                        [s2]      0.210\n",
      "0    s1       0.2500                        [s1]      0.250\n",
      "5    s6       0.0625        1                NaN        NaN\n",
      "Dataframe after another step:\n",
      "  label  probability encoding tree_node_children  node_prob\n",
      "6    s7       0.0625       00   [s7, s8, s5, s6]       0.25\n",
      "4    s5       0.0625       10                NaN        NaN\n",
      "3    s4       0.1400                        [s4]       0.14\n",
      "2    s3       0.1500                        [s3]       0.15\n",
      "1    s2       0.2100                        [s2]       0.21\n",
      "0    s1       0.2500                        [s1]       0.25\n",
      "7    s8       0.0625       01                NaN        NaN\n",
      "5    s6       0.0625       11                NaN        NaN\n",
      "Dataframe after another step:\n",
      "  label  probability encoding tree_node_children  node_prob\n",
      "3    s4       0.1400        0           [s4, s3]       0.29\n",
      "2    s3       0.1500        1                NaN        NaN\n",
      "1    s2       0.2100                        [s2]       0.21\n",
      "6    s7       0.0625       00   [s7, s8, s5, s6]       0.25\n",
      "0    s1       0.2500                        [s1]       0.25\n",
      "4    s5       0.0625       10                NaN        NaN\n",
      "7    s8       0.0625       01                NaN        NaN\n",
      "5    s6       0.0625       11                NaN        NaN\n",
      "Dataframe after another step:\n",
      "  label  probability encoding    tree_node_children  node_prob\n",
      "1    s2       0.2100        0  [s2, s7, s8, s5, s6]       0.46\n",
      "6    s7       0.0625      100                   NaN        NaN\n",
      "0    s1       0.2500                           [s1]       0.25\n",
      "3    s4       0.1400        0              [s4, s3]       0.29\n",
      "2    s3       0.1500        1                   NaN        NaN\n",
      "4    s5       0.0625      110                   NaN        NaN\n",
      "7    s8       0.0625      101                   NaN        NaN\n",
      "5    s6       0.0625      111                   NaN        NaN\n",
      "Dataframe after another step:\n",
      "  label  probability encoding    tree_node_children  node_prob\n",
      "0    s1       0.2500        0          [s1, s4, s3]       0.54\n",
      "3    s4       0.1400       10                   NaN        NaN\n",
      "1    s2       0.2100        0  [s2, s7, s8, s5, s6]       0.46\n",
      "6    s7       0.0625      100                   NaN        NaN\n",
      "2    s3       0.1500       11                   NaN        NaN\n",
      "4    s5       0.0625      110                   NaN        NaN\n",
      "7    s8       0.0625      101                   NaN        NaN\n",
      "5    s6       0.0625      111                   NaN        NaN\n",
      "Dataframe after another step:\n",
      "  label  probability encoding                tree_node_children  node_prob\n",
      "1    s2       0.2100       00  [s2, s7, s8, s5, s6, s1, s4, s3]        1.0\n",
      "0    s1       0.2500       10                               NaN        NaN\n",
      "3    s4       0.1400      110                               NaN        NaN\n",
      "6    s7       0.0625     0100                               NaN        NaN\n",
      "2    s3       0.1500      111                               NaN        NaN\n",
      "4    s5       0.0625     0110                               NaN        NaN\n",
      "7    s8       0.0625     0101                               NaN        NaN\n",
      "5    s6       0.0625     0111                               NaN        NaN\n",
      "  label  probability encoding                tree_node_children  node_prob  \\\n",
      "0    s1       0.2500       10                               NaN        NaN   \n",
      "1    s2       0.2100       00  [s2, s7, s8, s5, s6, s1, s4, s3]        1.0   \n",
      "2    s3       0.1500      111                               NaN        NaN   \n",
      "3    s4       0.1400      110                               NaN        NaN   \n",
      "4    s5       0.0625     0110                               NaN        NaN   \n",
      "5    s6       0.0625     0111                               NaN        NaN   \n",
      "6    s7       0.0625     0100                               NaN        NaN   \n",
      "7    s8       0.0625     0101                               NaN        NaN   \n",
      "\n",
      "   encoding_length  \n",
      "0                2  \n",
      "1                2  \n",
      "2                3  \n",
      "3                3  \n",
      "4                4  \n",
      "5                4  \n",
      "6                4  \n",
      "7                4  \n"
     ]
    }
   ],
   "source": [
    "df4 = huffman_coding(df3)\n",
    "print(df4)"
   ]
  },
  {
   "cell_type": "code",
   "execution_count": 236,
   "metadata": {},
   "outputs": [
    {
     "name": "stdout",
     "output_type": "stream",
     "text": [
      "The average amount of information content coming out of this probabilistic system:  2.78047815767448\n",
      "The average description length (under this encoding scheme) to transmit the state of the system:  2.79\n",
      "The difference: 0.009521842325519891\n",
      "\n",
      "The Entropy: 2.78047815767448\n",
      "The Cross-Entropy:  2.79\n",
      "The K-L Divergence 0.00952184232551968\n",
      "\n",
      "Look how low our K-L divergence is! That is a pretty efficient encoding! Nice method, Huffman!\n"
     ]
    }
   ],
   "source": [
    "#Now let's calculate the entropy, cross-entropy, and K-L Divergence\n",
    "\n",
    "p = df4['probability']\n",
    "encoding_length = df4['encoding_length']\n",
    "avg_message_size = sum(p*encoding_length)\n",
    "\n",
    "print('The average amount of information content coming out of this probabilistic system: ', -sum(p*np.log2(p)))\n",
    "print('The average description length (under this encoding scheme) to transmit the state of the system: ', avg_message_size)\n",
    "print('The difference:', avg_message_size-(-sum(p*np.log2(p))))\n",
    "\n",
    "#Alternate formulas for the above calculations\n",
    "\n",
    "#the implied q distribution\n",
    "q = 1/np.power(2, encoding_length)\n",
    "\n",
    "print()\n",
    "print('The Entropy:', -sum(p*np.log2(p)))\n",
    "print('The Cross-Entropy: ', -sum(p*np.log2(q)))\n",
    "print('The K-L Divergence', -sum(p*np.log2(q/p)))\n",
    "print()\n",
    "print('Look how low our K-L divergence is! That is a pretty efficient encoding! Nice method, Huffman!')"
   ]
  },
  {
   "cell_type": "code",
   "execution_count": 237,
   "metadata": {},
   "outputs": [
    {
     "name": "stdout",
     "output_type": "stream",
     "text": [
      "{'s1': '10', 's2': '00', 's3': '111', 's4': '110', 's5': '0110', 's6': '0111', 's7': '0100', 's8': '0101'}\n",
      "{'10': 's1', '00': 's2', '111': 's3', '110': 's4', '0110': 's5', '0111': 's6', '0100': 's7', '0101': 's8'}\n"
     ]
    }
   ],
   "source": [
    "#create a dictionary from two dataframe columns\n",
    "\n",
    "#encoding dictionary\n",
    "huffman_encoding_dict = df4.set_index('label')['encoding'].to_dict()\n",
    "print(huffman_encoding_dict)\n",
    "\n",
    "#decoding dictionary\n",
    "huffman_decoding_dict = df4.set_index('encoding')['label'].to_dict()\n",
    "print(huffman_decoding_dict)"
   ]
  },
  {
   "cell_type": "code",
   "execution_count": 238,
   "metadata": {},
   "outputs": [
    {
     "name": "stdout",
     "output_type": "stream",
     "text": [
      "0111\n",
      "s4\n"
     ]
    }
   ],
   "source": [
    "#check\n",
    "print(huffman_encoding_dict.get(\"s6\"))\n",
    "print(huffman_decoding_dict.get(\"110\"))"
   ]
  },
  {
   "cell_type": "code",
   "execution_count": 239,
   "metadata": {},
   "outputs": [],
   "source": [
    "#a sequence of 10 states we want to transmit\n",
    "sequence = ['s2', 's1', 's1', 's4', 's8', 's2', 's1', 's5', 's6', 's2']"
   ]
  },
  {
   "cell_type": "code",
   "execution_count": 240,
   "metadata": {},
   "outputs": [],
   "source": [
    "#encoder\n",
    "def encoder(state_sequence, encoding_dictionary):\n",
    "    \n",
    "    #initialize\n",
    "    encoded_sequence = ''\n",
    "    \n",
    "    for state in state_sequence:\n",
    "        encoded_sequence = encoded_sequence + encoding_dictionary.get(state)\n",
    "        \n",
    "    return encoded_sequence"
   ]
  },
  {
   "cell_type": "code",
   "execution_count": 241,
   "metadata": {},
   "outputs": [
    {
     "name": "stdout",
     "output_type": "stream",
     "text": [
      "001010110010100100110011100\n"
     ]
    }
   ],
   "source": [
    "message_string = encoder(sequence, huffman_encoding_dict)\n",
    "print(message_string)"
   ]
  },
  {
   "cell_type": "code",
   "execution_count": 242,
   "metadata": {},
   "outputs": [
    {
     "data": {
      "text/plain": [
       "'101011001'"
      ]
     },
     "execution_count": 242,
     "metadata": {},
     "output_type": "execute_result"
    }
   ],
   "source": [
    "message_string[2:11]"
   ]
  },
  {
   "cell_type": "code",
   "execution_count": 243,
   "metadata": {},
   "outputs": [],
   "source": [
    "#decoder\n",
    "def decoder(encoded_sequence, decoding_dictionary):\n",
    "    \n",
    "    #initialize\n",
    "    state_sequence = []\n",
    "    remaining_sequence = encoded_sequence\n",
    "    i = 0\n",
    "    \n",
    "    while i < len(remaining_sequence)+1:\n",
    "        if remaining_sequence[:i] in decoding_dictionary.keys():\n",
    "            state_sequence.append(decoding_dictionary.get(remaining_sequence[:i]))\n",
    "            remaining_sequence = remaining_sequence[i:]\n",
    "            i = 0\n",
    "        \n",
    "        i = i+1\n",
    "                                      \n",
    "    return state_sequence"
   ]
  },
  {
   "cell_type": "code",
   "execution_count": 244,
   "metadata": {},
   "outputs": [
    {
     "name": "stdout",
     "output_type": "stream",
     "text": [
      "['s2', 's1', 's1', 's4', 's8', 's2', 's1', 's5', 's6', 's2']\n"
     ]
    }
   ],
   "source": [
    "decoded_message = decoder(message_string, huffman_decoding_dict)\n",
    "print(decoded_message)"
   ]
  },
  {
   "cell_type": "code",
   "execution_count": 245,
   "metadata": {},
   "outputs": [],
   "source": [
    "#Next in this exploration of information and complexity:\n",
    "#Kolmogorov-Chaitin Complexity\n",
    "#check out \"Digital Physics\" the movie for more fun:)"
   ]
  },
  {
   "cell_type": "code",
   "execution_count": null,
   "metadata": {},
   "outputs": [],
   "source": []
  }
 ],
 "metadata": {
  "kernelspec": {
   "display_name": "Python 3",
   "language": "python",
   "name": "python3"
  },
  "language_info": {
   "codemirror_mode": {
    "name": "ipython",
    "version": 3
   },
   "file_extension": ".py",
   "mimetype": "text/x-python",
   "name": "python",
   "nbconvert_exporter": "python",
   "pygments_lexer": "ipython3",
   "version": "3.6.4"
  }
 },
 "nbformat": 4,
 "nbformat_minor": 2
}
