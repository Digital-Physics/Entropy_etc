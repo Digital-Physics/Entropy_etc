{
 "cells": [
  {
   "cell_type": "code",
   "execution_count": 149,
   "metadata": {},
   "outputs": [],
   "source": [
    "#entropy, cross-entropy, K-L divergence, Huffman Coding"
   ]
  },
  {
   "cell_type": "code",
   "execution_count": 1,
   "metadata": {},
   "outputs": [],
   "source": [
    "import numpy as np\n",
    "import pandas as pd"
   ]
  },
  {
   "cell_type": "code",
   "execution_count": 2,
   "metadata": {},
   "outputs": [],
   "source": [
    "#p represents a distribution of possible weather states for a given day\n",
    "p = np.array([0.9, 0.1]) #probability(sun, rain)"
   ]
  },
  {
   "cell_type": "code",
   "execution_count": 3,
   "metadata": {},
   "outputs": [
    {
     "name": "stdout",
     "output_type": "stream",
     "text": [
      "The entropy or information content measured in bits is:  0.4689955935892812\n"
     ]
    }
   ],
   "source": [
    "#\"entropy\"\n",
    "#a measure of uncertainty over possible events (in this case, the weather for the day)\n",
    "#consider transmitting a message about the weather over a communication wire through a binary Morse code-like system\n",
    "#an encoding with distribution p will take at least the following amounts of bits to transmit on average\n",
    "info_content = -sum(p*np.log2(p))\n",
    "print('The entropy or information content measured in bits is: ', info_content)"
   ]
  },
  {
   "cell_type": "code",
   "execution_count": 4,
   "metadata": {},
   "outputs": [
    {
     "name": "stdout",
     "output_type": "stream",
     "text": [
      "A notice of Sunny weather transmits this much info:  0.15200309344504995\n",
      "A notice of Rainy weather transmits this many bits of information:  3.321928094887362\n"
     ]
    }
   ],
   "source": [
    "#decomposing the entropy formula implies an unlikely event transmits more information than a likely event\n",
    "\n",
    "#sunny\n",
    "print('A notice of Sunny weather transmits this much info: ', -np.log2(p[0]))\n",
    "\n",
    "#rainy\n",
    "print('A notice of Rainy weather transmits this many bits of information: ', -np.log2(p[1]))"
   ]
  },
  {
   "cell_type": "code",
   "execution_count": 5,
   "metadata": {},
   "outputs": [
    {
     "name": "stdout",
     "output_type": "stream",
     "text": [
      "The lengths of our encoded messages about the weather are:  [1 1]\n",
      "The average message length under this encoding:  1.0\n"
     ]
    }
   ],
   "source": [
    "#suppose we came up with the following encoding for sending information about the weather\n",
    "#sun is encoded as a binary string of length one, namely '0' \n",
    "#and rain is encoded as a binary string of length one, namely '1'\n",
    "\n",
    "sun = '0'\n",
    "rain = '1'\n",
    "\n",
    "#to transmit the weather we are sending 1 bit of information in both situations\n",
    "encoding_length = np.array([len(str(sun)), len(str(rain))]) \n",
    "\n",
    "print('The lengths of our encoded messages about the weather are: ', encoding_length)\n",
    "\n",
    "#so the average length of the binary message we need to send\n",
    "avg_message_size = sum(p*encoding_length)\n",
    "\n",
    "print('The average message length under this encoding: ', avg_message_size)"
   ]
  },
  {
   "cell_type": "code",
   "execution_count": 6,
   "metadata": {},
   "outputs": [
    {
     "name": "stdout",
     "output_type": "stream",
     "text": [
      "The Cross-Entropy, or average message length calculated differently, is:  1.0\n"
     ]
    }
   ],
   "source": [
    "#Cross-Entropy\n",
    "\n",
    "#the encoding above can handle transmitting information on a higher entropy system than p = (.9,.1) \n",
    "#Entropy(.5,.5) > Entropy(.9,.1) since there is more uncertainty in a coin flip than the our weather\n",
    "#The encoding above is optimally efficient under the distribution q below (since cross-entropy = entropy)\n",
    "#There is no two-state system with more uncertainty\n",
    "#The likelihoods are equally balanced across all states\n",
    "q = np.array([0.5, 0.5])\n",
    "\n",
    "#Imagine you are sending an encoded message regarding the weather where...\n",
    "#The underlying data is drawn from a your weather distribution p, \n",
    "#But the encoding scheme is optimized for a different distribution q \n",
    "#Then the cross-entropy is the expected length of a message encoded according to q but sampled according to P\n",
    "print('The Cross-Entropy, or average message length calculated differently, is: ',-sum(p*np.log2(q)))"
   ]
  },
  {
   "cell_type": "code",
   "execution_count": 7,
   "metadata": {
    "scrolled": true
   },
   "outputs": [
    {
     "name": "stdout",
     "output_type": "stream",
     "text": [
      "The average extra number of bits we are sending:  0.5310044064107188\n",
      "The K-L Divergence: 0.5310044064107188\n"
     ]
    }
   ],
   "source": [
    "#the K-L Divergence \n",
    "\n",
    "#The extra bits we send (on average) above the theoretical minimum \n",
    "#There may not be an encoding that allows us to send the theoretical minimum\n",
    "print('The average extra number of bits we are sending: ', avg_message_size - info_content)\n",
    "\n",
    "#In this context, it is a measure of inefficiency of the way we have encoded our message regarding the weather\n",
    "print('The K-L Divergence:', -sum(p*np.log2(q/p)))"
   ]
  },
  {
   "cell_type": "code",
   "execution_count": 8,
   "metadata": {},
   "outputs": [
    {
     "data": {
      "text/plain": [
       "0.5310044064107189"
      ]
     },
     "execution_count": 8,
     "metadata": {},
     "output_type": "execute_result"
    }
   ],
   "source": [
    "#alternate formula for the K-L Divergece\n",
    "#a weighted average where our weights are the frequency of the weather\n",
    "#and the thing we are averaging is the encoding ratio(i.e. log base 2(x))... \n",
    "#between the actual information in p and the info under the encoding implied by q\n",
    "sum(p*np.log2(p/q))"
   ]
  },
  {
   "cell_type": "code",
   "execution_count": 9,
   "metadata": {},
   "outputs": [
    {
     "name": "stdout",
     "output_type": "stream",
     "text": [
      "If you switch the sampling and encoding distribution you get a K-L Divergence of:  0.7369655941662061\n"
     ]
    }
   ],
   "source": [
    "#KL is not symmetric between the sampling distribution and the encoding distribution\n",
    "#but it is still positive\n",
    "print('If you switch the sampling and encoding distribution you get a K-L Divergence of: ', -sum(q*np.log2(p/q)))"
   ]
  },
  {
   "cell_type": "code",
   "execution_count": 10,
   "metadata": {},
   "outputs": [
    {
     "name": "stdout",
     "output_type": "stream",
     "text": [
      "0.5310044064107189\n",
      "0.029446844526784283\n",
      "0.7944362512259656\n"
     ]
    }
   ],
   "source": [
    "#K-L divergence doesn't pass the triangle inequality for being a true distance metric\n",
    "#The K-L Divergence \"distance\" from p-to-q + q-to-r can be less than p-to-r !\n",
    "\n",
    "p = np.array([0.9, 0.1])\n",
    "q = np.array([0.5, 0.5])\n",
    "r = np.array([0.4, 0.6])\n",
    "\n",
    "print(sum(p*np.log2(p/q)))\n",
    "print(sum(q*np.log2(q/r)))\n",
    "print(sum(p*np.log2(p/r)))"
   ]
  },
  {
   "cell_type": "code",
   "execution_count": 11,
   "metadata": {},
   "outputs": [],
   "source": [
    "#Example #2\n",
    "#This one is more interesting since we can come up with a better encoding\n",
    "#Define the probability of (sun, rain, clouds, tornado)\n",
    "p = np.array([0.9, 0.05, 0.03, 0.02]) "
   ]
  },
  {
   "cell_type": "code",
   "execution_count": 12,
   "metadata": {},
   "outputs": [
    {
     "name": "stdout",
     "output_type": "stream",
     "text": [
      "0.6175431233120147\n"
     ]
    }
   ],
   "source": [
    "#a signal encoding one of four possibilities, each with probability specified in p...\n",
    "#should take at least the following amounts of bits to transmit, on average\n",
    "info_content = -sum(p*np.log2(p))\n",
    "print(info_content)"
   ]
  },
  {
   "cell_type": "code",
   "execution_count": 13,
   "metadata": {},
   "outputs": [
    {
     "name": "stdout",
     "output_type": "stream",
     "text": [
      "The lengths of our encoded messages about the weather are:  [2 2 2 2]\n",
      "The average message length under this encoding:  2.0\n"
     ]
    }
   ],
   "source": [
    "#suppose we use the following binary encodings\n",
    "\n",
    "sun = '00'\n",
    "rain = '01'\n",
    "clouds = '10'\n",
    "tornado = '11'\n",
    "\n",
    "#to transmit the weather we are sending 2 bits of information in all situations\n",
    "encoding_length = np.array([len(str(sun)), len(str(rain)), len(str(clouds)), len(str(tornado))]) \n",
    "\n",
    "print('The lengths of our encoded messages about the weather are: ', encoding_length)\n",
    "\n",
    "#so the average length of the binary message we need to send\n",
    "avg_message_size = sum(p*encoding_length)\n",
    "\n",
    "print('The average message length under this encoding: ', avg_message_size)"
   ]
  },
  {
   "cell_type": "code",
   "execution_count": 14,
   "metadata": {},
   "outputs": [
    {
     "name": "stdout",
     "output_type": "stream",
     "text": [
      "The average message size or cross-entropy: 2.0\n"
     ]
    }
   ],
   "source": [
    "#The Cross-Entropy\n",
    "#The average enoding length under q, drawn from distribution p\n",
    "q = np.array([0.25, 0.25, 0.25, 0.25])\n",
    "\n",
    "print('The average message size or cross-entropy:', -sum(p*np.log2(q)))"
   ]
  },
  {
   "cell_type": "code",
   "execution_count": 15,
   "metadata": {},
   "outputs": [
    {
     "name": "stdout",
     "output_type": "stream",
     "text": [
      "The Encoding Lengths:  [2 2 2 2]\n",
      "The implied likelihoods under this encoding:  [0.25 0.25 0.25 0.25]\n",
      "The Cross-Entropy, or average message size in bits:  2.0\n",
      "The Entropy, or average information content in a message:  0.6175431233120147\n",
      "The K-L Divergence, or extra bits of inefficiency our encoding adds: 1.3824568766879857\n"
     ]
    }
   ],
   "source": [
    "#another way to see where how the a specific encoding implies this q distribution\n",
    "\n",
    "#\"implied probabilities\" assuming the encoding was efficient\n",
    "#it is not a perferctly efficient encoding so the probabilites won't necessarily sum to 1, although they do here\n",
    "q = 1/np.power(2, encoding_length)\n",
    "\n",
    "print('The Encoding Lengths: ', encoding_length)\n",
    "print(\"The implied likelihoods under this encoding: \", q)\n",
    "\n",
    "print('The Cross-Entropy, or average message size in bits: ', -sum(p*np.log2(q)))\n",
    "print('The Entropy, or average information content in a message: ', -sum(p*np.log2(p)))\n",
    "print('The K-L Divergence, or extra bits of inefficiency our encoding adds:', -sum(p*np.log2(q/p)))"
   ]
  },
  {
   "cell_type": "code",
   "execution_count": 16,
   "metadata": {},
   "outputs": [
    {
     "name": "stdout",
     "output_type": "stream",
     "text": [
      "A measure of our inefficiency, or average extra bits transmitted:  1.3824568766879852\n"
     ]
    }
   ],
   "source": [
    "#The extra bits we needed to send (on average) above the theoretical minimum (which may not be achievable)\n",
    "print('A measure of our inefficiency, or average extra bits transmitted: ', avg_message_size - info_content)"
   ]
  },
  {
   "cell_type": "code",
   "execution_count": 17,
   "metadata": {},
   "outputs": [
    {
     "name": "stdout",
     "output_type": "stream",
     "text": [
      "The Encoding Lengths:  [1 2 3 3]\n",
      "The Entropy of the correct weather distribution:  0.6175431233120147\n",
      "The Cross-Entorpy or average message lenght : 1.1500000000000001\n",
      "The K-L Divergence between these two distributions:  0.5324568766879855\n"
     ]
    }
   ],
   "source": [
    "#suppose we use the following binary encodings\n",
    "#notice that even though we have varying encoding lengths, we can string them together and the message is still unambiguous\n",
    "#010 implies sun, rain\n",
    "#111000 implies wind, sun, sun, sun\n",
    "#1001 is invalid, I guess\n",
    "\n",
    "sun = '0'\n",
    "rain = '10'\n",
    "clouds = '110'\n",
    "tornado = '111'\n",
    "\n",
    "#to transmit the weather we are sending strings of length 1, 2, or 3\n",
    "encoding_length = np.array([len(str(sun)), len(str(rain)), len(str(clouds)), len(str(tornado))]) \n",
    "\n",
    "print('The Encoding Lengths: ', encoding_length)\n",
    "\n",
    "#the average length of the binary message we need to send\n",
    "avg_message_size = sum(p*encoding_length)\n",
    "\n",
    "print('The Entropy of the correct weather distribution: ', -sum(p*np.log2(p)))\n",
    "print('The Cross-Entorpy or average message lenght :', avg_message_size)\n",
    "print('The K-L Divergence between these two distributions: ', avg_message_size -(-sum(p*np.log2(p))))"
   ]
  },
  {
   "cell_type": "code",
   "execution_count": 18,
   "metadata": {},
   "outputs": [
    {
     "name": "stdout",
     "output_type": "stream",
     "text": [
      "The Encoding Lengths:  [1 2 3 3]\n",
      "The implied likelihoods assuming this is an optimal encoding:  [0.5   0.25  0.125 0.125]\n",
      "The K-L Divergence:  0.5324568766879854\n"
     ]
    }
   ],
   "source": [
    "#We did the K-L Divergence calculation above without calculating q\n",
    "#Just out of curiousity, what is the implied probabilities under the encoding above\n",
    "\n",
    "q = 1/np.power(2, encoding_length)\n",
    "\n",
    "print('The Encoding Lengths: ', encoding_length)\n",
    "print(\"The implied likelihoods assuming this is an optimal encoding: \", q)\n",
    "print('The K-L Divergence: ', -sum(p*np.log2(q/p)))"
   ]
  },
  {
   "cell_type": "code",
   "execution_count": 19,
   "metadata": {},
   "outputs": [
    {
     "name": "stdout",
     "output_type": "stream",
     "text": [
      "The Encoding Lengths:  [2 2 3 3]\n",
      "The implied likelihoods assuming this is an optimal encoding:  [0.25  0.25  0.125 0.125]\n",
      "The K-L Divergence, or measure of inefficiency, has gone up to:  1.4324568766879853\n"
     ]
    }
   ],
   "source": [
    "#what if we tweaked our encoding to make it less optimal\n",
    "#notice how our sun encoding is now two bits instead of one\n",
    "\n",
    "sun = '00'\n",
    "rain = '10'\n",
    "clouds = '110'\n",
    "tornado = '111'\n",
    "\n",
    "#to transmit the weather we are sending strings of length 1, 2, or 3\n",
    "encoding_length = np.array([len(str(sun)), len(str(rain)), len(str(clouds)), len(str(tornado))]) \n",
    "\n",
    "q = 1/np.power(2, encoding_length)\n",
    "\n",
    "print('The Encoding Lengths: ', encoding_length)\n",
    "print(\"The implied likelihoods assuming this is an optimal encoding: \", q)\n",
    "print('The K-L Divergence, or measure of inefficiency, has gone up to: ', -sum(p*np.log2(q/p)))"
   ]
  },
  {
   "cell_type": "code",
   "execution_count": 20,
   "metadata": {},
   "outputs": [
    {
     "name": "stdout",
     "output_type": "stream",
     "text": [
      "The Cross-Entropy:  1.1500000000000001\n",
      "The K-L Divergence 0.5324568766879854\n",
      "The Entropy: 0.6175431233120147\n",
      "Original Cross-Entropy:  2.0500000000000003\n",
      "Original K-L Divergence 1.4324568766879853\n",
      "The Entropy: 0.6175431233120147\n"
     ]
    }
   ],
   "source": [
    "#The amount by which our K-L divergence went up (our coding inefficiency) =\n",
    "#The amount by which our Cross-Entropy went up (our message length)\n",
    "#The entropy of our weather system didn't change\n",
    "\n",
    "#original encoding\n",
    "sun = '0'\n",
    "rain = '10'\n",
    "clouds = '110'\n",
    "tornado = '111'\n",
    "\n",
    "encoding_length = np.array([len(str(sun)), len(str(rain)), len(str(clouds)), len(str(tornado))]) \n",
    "\n",
    "q = 1/np.power(2, encoding_length)\n",
    "\n",
    "print('The Cross-Entropy: ', -sum(p*np.log2(q)))\n",
    "print('The K-L Divergence', -sum(p*np.log2(q/p)))\n",
    "print('The Entropy:', -sum(p*np.log2(p)))\n",
    "\n",
    "#subsequent encoding\n",
    "sun = '00'\n",
    "rain = '10'\n",
    "clouds = '110'\n",
    "tornado = '111'\n",
    "\n",
    "encoding_length = np.array([len(str(sun)), len(str(rain)), len(str(clouds)), len(str(tornado))]) \n",
    "\n",
    "q = 1/np.power(2, encoding_length)\n",
    "\n",
    "print('Original Cross-Entropy: ', -sum(p*np.log2(q)))\n",
    "print('Original K-L Divergence', -sum(p*np.log2(q/p)))\n",
    "print('The Entropy:', -sum(p*np.log2(p)))"
   ]
  },
  {
   "cell_type": "code",
   "execution_count": 21,
   "metadata": {},
   "outputs": [
    {
     "name": "stdout",
     "output_type": "stream",
     "text": [
      "The Cross-Entropy:  1.75\n",
      "The K-L Divergence 0.0\n",
      "The Entropy: 1.75\n"
     ]
    }
   ],
   "source": [
    "#Example #3\n",
    "#Define the probability of (sun, rain, clouds, tornado)\n",
    "p = np.array([0.5, 0.25, 0.125, 0.125]) \n",
    "\n",
    "#Use this encoding to send your message about the weather\n",
    "sun = '0'\n",
    "rain = '10'\n",
    "clouds = '110'\n",
    "tornado = '111'\n",
    "\n",
    "encoding_length = np.array([len(str(sun)), len(str(rain)), len(str(clouds)), len(str(tornado))]) \n",
    "\n",
    "q = 1/np.power(2, encoding_length)\n",
    "\n",
    "#notice how we have encoded our weather data perfectly efficiently\n",
    "#the cross-entropy = entropy\n",
    "#the average message length = information content\n",
    "#no wasted bits transmitted\n",
    "#we're lucky the weather's probabilites allowed for a perfectly efficient encoding to exist\n",
    "#On average we'll send 1.75 bits, or characters in a binary language\n",
    "#On average the receiver will be getting 1.75 bits of information content, or surprise, on the other end\n",
    "print('The Cross-Entropy: ', -sum(p*np.log2(q)))\n",
    "print('The K-L Divergence', sum(p*np.log2(p/q)))\n",
    "print('The Entropy:', -sum(p*np.log2(p)))"
   ]
  },
  {
   "cell_type": "code",
   "execution_count": 22,
   "metadata": {},
   "outputs": [],
   "source": [
    "#All encodings thus far has been given to you, whether they were relatively efficient encodings for transmitting weather info or not\n",
    "#How do we come up with relatively efficient codings for arbitrary distributions?\n",
    "#One method is known as Huffman Coding..."
   ]
  },
  {
   "cell_type": "code",
   "execution_count": 230,
   "metadata": {},
   "outputs": [
    {
     "name": "stdout",
     "output_type": "stream",
     "text": [
      "     label  probability\n",
      "0     rain        0.250\n",
      "1      sun        0.500\n",
      "2    cloud        0.125\n",
      "3  tornado        0.125\n"
     ]
    }
   ],
   "source": [
    "d = {'label': ['rain', 'sun', 'cloud', 'tornado'], 'probability': [0.25, 0.5, 0.125, 0.125]}\n",
    "df = pd.DataFrame(data=d)\n",
    "print(df)"
   ]
  },
  {
   "cell_type": "code",
   "execution_count": 240,
   "metadata": {},
   "outputs": [],
   "source": [
    "#Huffman coding\n",
    "def huffman_encoding(dataframe):\n",
    "    \n",
    "    #add additional columns, space for the algorithm to work\n",
    "    dataframe['encoding'] = '' #a placeholder for us to write the huffman code strings\n",
    "    dataframe['tree_node_children'] = dataframe['label'] #the original tree nodes that will be ranked by probility are the weather states\n",
    "    dataframe['tree_node_children'] = dataframe.tree_node_children.apply(lambda x: [x]) #put the name into a list\n",
    "    dataframe['node_prob'] = dataframe['probability'] #the original probabilities for the first huffman code ranking\n",
    "    dataframe['done'] = 0 #a field that will be referenced to determine when which probabilies have been put in the tree\n",
    "    \n",
    "    \n",
    "    print('Dataframe at start:')\n",
    "    print(dataframe)\n",
    "    \n",
    "    completed = 0\n",
    "    \n",
    "    while completed < 1: #need to change this to reference 'done' field\n",
    "        #sort the data to see which states have the lowest probabilities\n",
    "        dataframe = dataframe.sort_values(by='node_prob')\n",
    "        \n",
    "        #add 0 to the front of the encoding associated with all states/nodes below the node or state with lowest probability \n",
    "        for sub_node in dataframe.iloc[0]['tree_node_children']:\n",
    "            dataframe.loc[dataframe.label == sub_node,'encoding'] = '0' + dataframe.loc[dataframe.label == sub_node,'encoding']\n",
    "        \n",
    "        #add 1 to the front of the encoding associated with all states/nodes below the node or state with second lowest probability \n",
    "        for sub_node in dataframe.iloc[1]['tree_node_children']:\n",
    "            dataframe.loc[dataframe.label == sub_node,'encoding'] = '1' + dataframe.loc[dataframe.label == sub_node,'encoding']\n",
    "            \n",
    "        #update probabilites and nodes for next iteration (ranking the two lowest probability nodes/states)\n",
    "        dataframe.iloc[0, dataframe.columns.get_loc('node_prob')] = dataframe.iloc[0]['node_prob'] + dataframe.iloc[1]['node_prob'] #add two numbers\n",
    "        dataframe.iloc[1, dataframe.columns.get_loc('node_prob')] = 99 #need to find better way that doesn't mess with sort\n",
    "        dataframe.iat[0, dataframe.columns.get_loc('tree_node_children')] = [*dataframe.iloc[0]['tree_node_children'], *dataframe.iloc[1]['tree_node_children']] #combine two lists\n",
    "        dataframe.iat[1, dataframe.columns.get_loc('tree_node_children')] = ''\n",
    "        dataframe.iloc[0, dataframe.columns.get_loc('done')] = 1\n",
    "        dataframe.iloc[1, dataframe.columns.get_loc('done')] = 1\n",
    "        print('Dataframe after another step:')\n",
    "        print(dataframe)\n",
    "        \n",
    "        completed = dataframe['done'].min()\n",
    "             \n",
    "    return dataframe.loc[:,'label':'encoding']"
   ]
  },
  {
   "cell_type": "code",
   "execution_count": 241,
   "metadata": {},
   "outputs": [
    {
     "name": "stdout",
     "output_type": "stream",
     "text": [
      "Dataframe at start:\n",
      "     label  probability encoding tree_node_children  node_prob  done\n",
      "0     rain        0.250                      [rain]      0.250     0\n",
      "1      sun        0.500                       [sun]      0.500     0\n",
      "2    cloud        0.125                     [cloud]      0.125     0\n",
      "3  tornado        0.125                   [tornado]      0.125     0\n",
      "Dataframe after another step:\n",
      "     label  probability encoding tree_node_children  node_prob  done\n",
      "2    cloud        0.125        0   [cloud, tornado]       0.25     1\n",
      "3  tornado        0.125        1                         99.00     1\n",
      "0     rain        0.250                      [rain]       0.25     0\n",
      "1      sun        0.500                       [sun]       0.50     0\n",
      "Dataframe after another step:\n",
      "     label  probability encoding      tree_node_children  node_prob  done\n",
      "2    cloud        0.125       00  [cloud, tornado, rain]        0.5     1\n",
      "0     rain        0.250        1                               99.0     1\n",
      "1      sun        0.500                            [sun]        0.5     0\n",
      "3  tornado        0.125       01                               99.0     1\n",
      "Dataframe after another step:\n",
      "     label  probability encoding           tree_node_children  node_prob  done\n",
      "2    cloud        0.125      000  [cloud, tornado, rain, sun]        1.0     1\n",
      "1      sun        0.500        1                                    99.0     1\n",
      "0     rain        0.250       01                                    99.0     1\n",
      "3  tornado        0.125      001                                    99.0     1\n"
     ]
    },
    {
     "data": {
      "text/html": [
       "<div>\n",
       "<style scoped>\n",
       "    .dataframe tbody tr th:only-of-type {\n",
       "        vertical-align: middle;\n",
       "    }\n",
       "\n",
       "    .dataframe tbody tr th {\n",
       "        vertical-align: top;\n",
       "    }\n",
       "\n",
       "    .dataframe thead th {\n",
       "        text-align: right;\n",
       "    }\n",
       "</style>\n",
       "<table border=\"1\" class=\"dataframe\">\n",
       "  <thead>\n",
       "    <tr style=\"text-align: right;\">\n",
       "      <th></th>\n",
       "      <th>label</th>\n",
       "      <th>probability</th>\n",
       "      <th>encoding</th>\n",
       "    </tr>\n",
       "  </thead>\n",
       "  <tbody>\n",
       "    <tr>\n",
       "      <th>2</th>\n",
       "      <td>cloud</td>\n",
       "      <td>0.125</td>\n",
       "      <td>000</td>\n",
       "    </tr>\n",
       "    <tr>\n",
       "      <th>1</th>\n",
       "      <td>sun</td>\n",
       "      <td>0.500</td>\n",
       "      <td>1</td>\n",
       "    </tr>\n",
       "    <tr>\n",
       "      <th>0</th>\n",
       "      <td>rain</td>\n",
       "      <td>0.250</td>\n",
       "      <td>01</td>\n",
       "    </tr>\n",
       "    <tr>\n",
       "      <th>3</th>\n",
       "      <td>tornado</td>\n",
       "      <td>0.125</td>\n",
       "      <td>001</td>\n",
       "    </tr>\n",
       "  </tbody>\n",
       "</table>\n",
       "</div>"
      ],
      "text/plain": [
       "     label  probability encoding\n",
       "2    cloud        0.125      000\n",
       "1      sun        0.500        1\n",
       "0     rain        0.250       01\n",
       "3  tornado        0.125      001"
      ]
     },
     "execution_count": 241,
     "metadata": {},
     "output_type": "execute_result"
    }
   ],
   "source": [
    "huffman_encoding(df)"
   ]
  },
  {
   "cell_type": "code",
   "execution_count": 242,
   "metadata": {},
   "outputs": [
    {
     "name": "stdout",
     "output_type": "stream",
     "text": [
      "     label  probability\n",
      "0     rain        0.250\n",
      "1      sun        0.400\n",
      "2    cloud        0.125\n",
      "3  tornado        0.125\n",
      "4     fire        0.100\n"
     ]
    }
   ],
   "source": [
    "d2 = {'label': ['rain', 'sun', 'cloud', 'tornado', 'fire'], 'probability': [0.25, 0.4, 0.125, 0.125, 0.1]}\n",
    "df2 = pd.DataFrame(data=d2)\n",
    "print(df2)"
   ]
  },
  {
   "cell_type": "code",
   "execution_count": 243,
   "metadata": {},
   "outputs": [
    {
     "name": "stdout",
     "output_type": "stream",
     "text": [
      "Dataframe at start:\n",
      "     label  probability encoding tree_node_children  node_prob  done\n",
      "0     rain        0.250                      [rain]      0.250     0\n",
      "1      sun        0.400                       [sun]      0.400     0\n",
      "2    cloud        0.125                     [cloud]      0.125     0\n",
      "3  tornado        0.125                   [tornado]      0.125     0\n",
      "4     fire        0.100                      [fire]      0.100     0\n",
      "Dataframe after another step:\n",
      "     label  probability encoding tree_node_children  node_prob  done\n",
      "4     fire        0.100        0      [fire, cloud]      0.225     1\n",
      "2    cloud        0.125        1                        99.000     1\n",
      "3  tornado        0.125                   [tornado]      0.125     0\n",
      "0     rain        0.250                      [rain]      0.250     0\n",
      "1      sun        0.400                       [sun]      0.400     0\n",
      "Dataframe after another step:\n",
      "     label  probability encoding      tree_node_children  node_prob  done\n",
      "3  tornado        0.125        0  [tornado, fire, cloud]       0.35     1\n",
      "4     fire        0.100       10                              99.00     1\n",
      "0     rain        0.250                           [rain]       0.25     0\n",
      "1      sun        0.400                            [sun]       0.40     0\n",
      "2    cloud        0.125       11                              99.00     1\n",
      "Dataframe after another step:\n",
      "     label  probability encoding            tree_node_children  node_prob  \\\n",
      "0     rain        0.250        0  [rain, tornado, fire, cloud]        0.6   \n",
      "3  tornado        0.125       10                                     99.0   \n",
      "1      sun        0.400                                  [sun]        0.4   \n",
      "4     fire        0.100      110                                     99.0   \n",
      "2    cloud        0.125      111                                     99.0   \n",
      "\n",
      "   done  \n",
      "0     1  \n",
      "3     1  \n",
      "1     0  \n",
      "4     1  \n",
      "2     1  \n",
      "Dataframe after another step:\n",
      "     label  probability encoding                 tree_node_children  \\\n",
      "1      sun        0.400        0  [sun, rain, tornado, fire, cloud]   \n",
      "0     rain        0.250       10                                      \n",
      "3  tornado        0.125      110                                      \n",
      "4     fire        0.100     1110                                      \n",
      "2    cloud        0.125     1111                                      \n",
      "\n",
      "   node_prob  done  \n",
      "1        1.0     1  \n",
      "0       99.0     1  \n",
      "3       99.0     1  \n",
      "4       99.0     1  \n",
      "2       99.0     1  \n"
     ]
    },
    {
     "data": {
      "text/html": [
       "<div>\n",
       "<style scoped>\n",
       "    .dataframe tbody tr th:only-of-type {\n",
       "        vertical-align: middle;\n",
       "    }\n",
       "\n",
       "    .dataframe tbody tr th {\n",
       "        vertical-align: top;\n",
       "    }\n",
       "\n",
       "    .dataframe thead th {\n",
       "        text-align: right;\n",
       "    }\n",
       "</style>\n",
       "<table border=\"1\" class=\"dataframe\">\n",
       "  <thead>\n",
       "    <tr style=\"text-align: right;\">\n",
       "      <th></th>\n",
       "      <th>label</th>\n",
       "      <th>probability</th>\n",
       "      <th>encoding</th>\n",
       "    </tr>\n",
       "  </thead>\n",
       "  <tbody>\n",
       "    <tr>\n",
       "      <th>1</th>\n",
       "      <td>sun</td>\n",
       "      <td>0.400</td>\n",
       "      <td>0</td>\n",
       "    </tr>\n",
       "    <tr>\n",
       "      <th>0</th>\n",
       "      <td>rain</td>\n",
       "      <td>0.250</td>\n",
       "      <td>10</td>\n",
       "    </tr>\n",
       "    <tr>\n",
       "      <th>3</th>\n",
       "      <td>tornado</td>\n",
       "      <td>0.125</td>\n",
       "      <td>110</td>\n",
       "    </tr>\n",
       "    <tr>\n",
       "      <th>4</th>\n",
       "      <td>fire</td>\n",
       "      <td>0.100</td>\n",
       "      <td>1110</td>\n",
       "    </tr>\n",
       "    <tr>\n",
       "      <th>2</th>\n",
       "      <td>cloud</td>\n",
       "      <td>0.125</td>\n",
       "      <td>1111</td>\n",
       "    </tr>\n",
       "  </tbody>\n",
       "</table>\n",
       "</div>"
      ],
      "text/plain": [
       "     label  probability encoding\n",
       "1      sun        0.400        0\n",
       "0     rain        0.250       10\n",
       "3  tornado        0.125      110\n",
       "4     fire        0.100     1110\n",
       "2    cloud        0.125     1111"
      ]
     },
     "execution_count": 243,
     "metadata": {},
     "output_type": "execute_result"
    }
   ],
   "source": [
    "huffman_encoding(df2)"
   ]
  },
  {
   "cell_type": "code",
   "execution_count": 246,
   "metadata": {},
   "outputs": [
    {
     "name": "stdout",
     "output_type": "stream",
     "text": [
      "     label  probability\n",
      "0     rain        0.250\n",
      "1      sun        0.400\n",
      "2    cloud        0.125\n",
      "3  tornado        0.125\n",
      "4     fire        0.050\n",
      "5     hail        0.030\n",
      "6     wind        0.020\n",
      "7     smog        0.010\n"
     ]
    }
   ],
   "source": [
    "d3 = {'label': ['rain', 'sun', 'cloud', 'tornado', 'fire', 'hail', 'wind', 'smog'], \n",
    "      'probability': [0.25, 0.4, 0.125, 0.125, 0.05, 0.03, 0.02, 0.01]}\n",
    "df3 = pd.DataFrame(data=d3)\n",
    "print(df3)"
   ]
  },
  {
   "cell_type": "code",
   "execution_count": 247,
   "metadata": {},
   "outputs": [
    {
     "name": "stdout",
     "output_type": "stream",
     "text": [
      "Dataframe at start:\n",
      "     label  probability encoding tree_node_children  node_prob  done\n",
      "0     rain        0.250                      [rain]      0.250     0\n",
      "1      sun        0.400                       [sun]      0.400     0\n",
      "2    cloud        0.125                     [cloud]      0.125     0\n",
      "3  tornado        0.125                   [tornado]      0.125     0\n",
      "4     fire        0.050                      [fire]      0.050     0\n",
      "5     hail        0.030                      [hail]      0.030     0\n",
      "6     wind        0.020                      [wind]      0.020     0\n",
      "7     smog        0.010                      [smog]      0.010     0\n",
      "Dataframe after another step:\n",
      "     label  probability encoding tree_node_children  node_prob  done\n",
      "7     smog        0.010        0       [smog, wind]      0.030     1\n",
      "6     wind        0.020        1                        99.000     1\n",
      "5     hail        0.030                      [hail]      0.030     0\n",
      "4     fire        0.050                      [fire]      0.050     0\n",
      "2    cloud        0.125                     [cloud]      0.125     0\n",
      "3  tornado        0.125                   [tornado]      0.125     0\n",
      "0     rain        0.250                      [rain]      0.250     0\n",
      "1      sun        0.400                       [sun]      0.400     0\n",
      "Dataframe after another step:\n",
      "     label  probability encoding  tree_node_children  node_prob  done\n",
      "7     smog        0.010       00  [smog, wind, hail]      0.060     1\n",
      "5     hail        0.030        1                         99.000     1\n",
      "4     fire        0.050                       [fire]      0.050     0\n",
      "2    cloud        0.125                      [cloud]      0.125     0\n",
      "3  tornado        0.125                    [tornado]      0.125     0\n",
      "0     rain        0.250                       [rain]      0.250     0\n",
      "1      sun        0.400                        [sun]      0.400     0\n",
      "6     wind        0.020       01                         99.000     1\n",
      "Dataframe after another step:\n",
      "     label  probability encoding        tree_node_children  node_prob  done\n",
      "4     fire        0.050        0  [fire, smog, wind, hail]      0.110     1\n",
      "7     smog        0.010      100                               99.000     1\n",
      "2    cloud        0.125                            [cloud]      0.125     0\n",
      "3  tornado        0.125                          [tornado]      0.125     0\n",
      "0     rain        0.250                             [rain]      0.250     0\n",
      "1      sun        0.400                              [sun]      0.400     0\n",
      "5     hail        0.030       11                               99.000     1\n",
      "6     wind        0.020      101                               99.000     1\n",
      "Dataframe after another step:\n",
      "     label  probability encoding               tree_node_children  node_prob  \\\n",
      "4     fire        0.050       00  [fire, smog, wind, hail, cloud]      0.235   \n",
      "2    cloud        0.125        1                                      99.000   \n",
      "3  tornado        0.125                                 [tornado]      0.125   \n",
      "0     rain        0.250                                    [rain]      0.250   \n",
      "1      sun        0.400                                     [sun]      0.400   \n",
      "7     smog        0.010     0100                                      99.000   \n",
      "5     hail        0.030      011                                      99.000   \n",
      "6     wind        0.020     0101                                      99.000   \n",
      "\n",
      "   done  \n",
      "4     1  \n",
      "2     1  \n",
      "3     0  \n",
      "0     0  \n",
      "1     0  \n",
      "7     1  \n",
      "5     1  \n",
      "6     1  \n",
      "Dataframe after another step:\n",
      "     label  probability encoding                        tree_node_children  \\\n",
      "3  tornado        0.125        0  [tornado, fire, smog, wind, hail, cloud]   \n",
      "4     fire        0.050      100                                             \n",
      "0     rain        0.250                                             [rain]   \n",
      "1      sun        0.400                                              [sun]   \n",
      "2    cloud        0.125       11                                             \n",
      "7     smog        0.010    10100                                             \n",
      "5     hail        0.030     1011                                             \n",
      "6     wind        0.020    10101                                             \n",
      "\n",
      "   node_prob  done  \n",
      "3       0.36     1  \n",
      "4      99.00     1  \n",
      "0       0.25     0  \n",
      "1       0.40     0  \n",
      "2      99.00     1  \n",
      "7      99.00     1  \n",
      "5      99.00     1  \n",
      "6      99.00     1  \n",
      "Dataframe after another step:\n",
      "     label  probability encoding  \\\n",
      "0     rain        0.250        0   \n",
      "3  tornado        0.125       10   \n",
      "1      sun        0.400            \n",
      "4     fire        0.050     1100   \n",
      "2    cloud        0.125      111   \n",
      "7     smog        0.010   110100   \n",
      "5     hail        0.030    11011   \n",
      "6     wind        0.020   110101   \n",
      "\n",
      "                               tree_node_children  node_prob  done  \n",
      "0  [rain, tornado, fire, smog, wind, hail, cloud]       0.61     1  \n",
      "3                                                      99.00     1  \n",
      "1                                           [sun]       0.40     0  \n",
      "4                                                      99.00     1  \n",
      "2                                                      99.00     1  \n",
      "7                                                      99.00     1  \n",
      "5                                                      99.00     1  \n",
      "6                                                      99.00     1  \n",
      "Dataframe after another step:\n",
      "     label  probability encoding  \\\n",
      "1      sun        0.400        0   \n",
      "0     rain        0.250       10   \n",
      "3  tornado        0.125      110   \n",
      "4     fire        0.050    11100   \n",
      "2    cloud        0.125     1111   \n",
      "7     smog        0.010  1110100   \n",
      "5     hail        0.030   111011   \n",
      "6     wind        0.020  1110101   \n",
      "\n",
      "                                  tree_node_children  node_prob  done  \n",
      "1  [sun, rain, tornado, fire, smog, wind, hail, c...       1.01     1  \n",
      "0                                                         99.00     1  \n",
      "3                                                         99.00     1  \n",
      "4                                                         99.00     1  \n",
      "2                                                         99.00     1  \n",
      "7                                                         99.00     1  \n",
      "5                                                         99.00     1  \n",
      "6                                                         99.00     1  \n"
     ]
    },
    {
     "data": {
      "text/html": [
       "<div>\n",
       "<style scoped>\n",
       "    .dataframe tbody tr th:only-of-type {\n",
       "        vertical-align: middle;\n",
       "    }\n",
       "\n",
       "    .dataframe tbody tr th {\n",
       "        vertical-align: top;\n",
       "    }\n",
       "\n",
       "    .dataframe thead th {\n",
       "        text-align: right;\n",
       "    }\n",
       "</style>\n",
       "<table border=\"1\" class=\"dataframe\">\n",
       "  <thead>\n",
       "    <tr style=\"text-align: right;\">\n",
       "      <th></th>\n",
       "      <th>label</th>\n",
       "      <th>probability</th>\n",
       "      <th>encoding</th>\n",
       "    </tr>\n",
       "  </thead>\n",
       "  <tbody>\n",
       "    <tr>\n",
       "      <th>1</th>\n",
       "      <td>sun</td>\n",
       "      <td>0.400</td>\n",
       "      <td>0</td>\n",
       "    </tr>\n",
       "    <tr>\n",
       "      <th>0</th>\n",
       "      <td>rain</td>\n",
       "      <td>0.250</td>\n",
       "      <td>10</td>\n",
       "    </tr>\n",
       "    <tr>\n",
       "      <th>3</th>\n",
       "      <td>tornado</td>\n",
       "      <td>0.125</td>\n",
       "      <td>110</td>\n",
       "    </tr>\n",
       "    <tr>\n",
       "      <th>4</th>\n",
       "      <td>fire</td>\n",
       "      <td>0.050</td>\n",
       "      <td>11100</td>\n",
       "    </tr>\n",
       "    <tr>\n",
       "      <th>2</th>\n",
       "      <td>cloud</td>\n",
       "      <td>0.125</td>\n",
       "      <td>1111</td>\n",
       "    </tr>\n",
       "    <tr>\n",
       "      <th>7</th>\n",
       "      <td>smog</td>\n",
       "      <td>0.010</td>\n",
       "      <td>1110100</td>\n",
       "    </tr>\n",
       "    <tr>\n",
       "      <th>5</th>\n",
       "      <td>hail</td>\n",
       "      <td>0.030</td>\n",
       "      <td>111011</td>\n",
       "    </tr>\n",
       "    <tr>\n",
       "      <th>6</th>\n",
       "      <td>wind</td>\n",
       "      <td>0.020</td>\n",
       "      <td>1110101</td>\n",
       "    </tr>\n",
       "  </tbody>\n",
       "</table>\n",
       "</div>"
      ],
      "text/plain": [
       "     label  probability encoding\n",
       "1      sun        0.400        0\n",
       "0     rain        0.250       10\n",
       "3  tornado        0.125      110\n",
       "4     fire        0.050    11100\n",
       "2    cloud        0.125     1111\n",
       "7     smog        0.010  1110100\n",
       "5     hail        0.030   111011\n",
       "6     wind        0.020  1110101"
      ]
     },
     "execution_count": 247,
     "metadata": {},
     "output_type": "execute_result"
    }
   ],
   "source": [
    "huffman_encoding(df3)"
   ]
  },
  {
   "cell_type": "code",
   "execution_count": null,
   "metadata": {},
   "outputs": [],
   "source": [
    "#Next in this exploration of information and complexity:\n",
    "#Kolmogorov-Chaitin Complexity\n",
    "#check out \"Digital Physics\" the movie for more fun:)"
   ]
  }
 ],
 "metadata": {
  "kernelspec": {
   "display_name": "Python 3",
   "language": "python",
   "name": "python3"
  },
  "language_info": {
   "codemirror_mode": {
    "name": "ipython",
    "version": 3
   },
   "file_extension": ".py",
   "mimetype": "text/x-python",
   "name": "python",
   "nbconvert_exporter": "python",
   "pygments_lexer": "ipython3",
   "version": "3.6.4"
  }
 },
 "nbformat": 4,
 "nbformat_minor": 2
}
